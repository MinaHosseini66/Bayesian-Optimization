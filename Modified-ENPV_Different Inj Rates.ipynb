{
 "cells": [
  {
   "cell_type": "markdown",
   "metadata": {},
   "source": [
    "Below is the code for calculationg ENPV with a modified method, using uniform distribution to select the initial injection rates. we have 8 arrays for 8 wells and they have different injection rates. we have 30 initial injection rates. "
   ]
  },
  {
   "cell_type": "code",
   "execution_count": 1,
   "metadata": {},
   "outputs": [],
   "source": [
    "# import necessary packages\n",
    "\n",
    "from ecl.summary import EclSum\n",
    "import sys\n",
    "import os\n",
    "import numpy as np\n",
    "from array import *\n",
    "import pandas as pd\n",
    "import GPy\n",
    "import GPyOpt\n",
    "from GPyOpt.methods import BayesianOptimization\n",
    "import matplotlib.pyplot as plt"
   ]
  },
  {
   "cell_type": "code",
   "execution_count": 2,
   "metadata": {},
   "outputs": [],
   "source": [
    "# parameters that we need to calculate ENPV\n",
    "\n",
    "OP =  300   #Oil Price $ per m3\n",
    "WPP = 47.5    #Water Production Price $ per m3\n",
    "WIP = 12.5  #WaterInjection Price $ per m3\n",
    "Study_period = np.arange(10) #Years\n",
    "DiscountRate = 0.08\n",
    "NPV = []\n",
    "Inj_rate_Opt = []\n",
    "NPV_Opt = []"
   ]
  },
  {
   "cell_type": "code",
   "execution_count": null,
   "metadata": {},
   "outputs": [],
   "source": [
    "#initial random injection rates selection using uniform distribution\n",
    "\n",
    "Inj_Data = {'U1' : np.random.uniform(low=5, high=100, size=(30)),\n",
    "            'U2' : np.random.uniform(low=5, high=100, size=(30)),\n",
    "            'U3' : np.random.uniform(low=5, high=100, size=(30)),\n",
    "            'U4' : np.random.uniform(low=5, high=100, size=(30)),\n",
    "            'U5' : np.random.uniform(low=5, high=100, size=(30)),\n",
    "            'U6' : np.random.uniform(low=5, high=100, size=(30)),\n",
    "            'U7' : np.random.uniform(low=5, high=100, size=(30)),\n",
    "            'U8' : np.random.uniform(low=5, high=100, size=(30))}\n",
    "\n",
    "InjRate_NPV_df=pd.DataFrame(Inj_Data)\n",
    "InjRate = InjRate_NPV_df.T\n",
    "display(InjRate_NPV_df)\n",
    "\n",
    "Inject_Different_Rates=InjRate_NPV_df.to_numpy()\n",
    "Inject_Different_Rates=np.around(Inject_Different_Rates,2)\n"
   ]
  },
  {
   "cell_type": "code",
   "execution_count": 4,
   "metadata": {},
   "outputs": [],
   "source": [
    "# Modify Injection Rates with different Injection Rates \n",
    "\n",
    "def modify_Different_InjRate(Init_InjRate):\n",
    "    \n",
    "    Schedule_NEW_sample=pd.read_csv('SCHEDULE_NEW_sample.INC')\n",
    "    #print(\"InjRate=\" , Init_InjRate)\n",
    "\n",
    "    Schedule_NEW_sample['WCONINJE'][0] = Schedule_NEW_sample['WCONINJE'][0].replace('U1' , str(Init_InjRate[0]))\n",
    "    Schedule_NEW_sample['WCONINJE'][1] = Schedule_NEW_sample['WCONINJE'][1].replace('U2' , str(Init_InjRate[1]))\n",
    "    Schedule_NEW_sample['WCONINJE'][2] = Schedule_NEW_sample['WCONINJE'][2].replace('U3' , str(Init_InjRate[2]))\n",
    "    Schedule_NEW_sample['WCONINJE'][3] = Schedule_NEW_sample['WCONINJE'][3].replace('U4' , str(Init_InjRate[3]))\n",
    "    Schedule_NEW_sample['WCONINJE'][4] = Schedule_NEW_sample['WCONINJE'][4].replace('U5' , str(Init_InjRate[4]))\n",
    "    Schedule_NEW_sample['WCONINJE'][5] = Schedule_NEW_sample['WCONINJE'][5].replace('U6' , str(Init_InjRate[5]))\n",
    "    Schedule_NEW_sample['WCONINJE'][6] = Schedule_NEW_sample['WCONINJE'][6].replace('U7' , str(Init_InjRate[6]))\n",
    "    Schedule_NEW_sample['WCONINJE'][7] = Schedule_NEW_sample['WCONINJE'][7].replace('U8' , str(Init_InjRate[7]))\n",
    "\n",
    "    Schedule_NEW_sample.to_csv('SCHEDULE_NEW.INC',index=False)\n",
    "\n"
   ]
  },
  {
   "cell_type": "code",
   "execution_count": 5,
   "metadata": {},
   "outputs": [],
   "source": [
    "# NPV calculation function\n",
    "\n",
    "def NPV_Calc():\n",
    "    ''' In this function, we need to read the data provided by Eclips simulator,\n",
    "    then, Eclips provides data for 10 years with intervals of 30 days, I considered every 360 days as a year, \n",
    "    since the discount rate is provided as yearly basis, I chose yearly data, calculated net cash flows for evey year,\n",
    "    discounted yearly and summed up all the discounted cash flows to calculate the NPV,\n",
    "    This is done for every realizations'''\n",
    "    \n",
    "    summary = EclSum(\"ENSEMBLE_1.UNSMRY\")\n",
    "    Time = summary.numpy_vector(\"TIME\")\n",
    "    Years = summary.numpy_vector(\"YEARS\")\n",
    "    FOE = summary.numpy_vector(\"FOE\")\n",
    "    FOPR = summary.numpy_vector(\"FOPR\")\n",
    "    FOPT = summary.numpy_vector(\"FOPT\")\n",
    "    FPR = summary.numpy_vector(\"FPR\")\n",
    "    FWCT = summary.numpy_vector(\"FWCT\")\n",
    "    FWIR = summary.numpy_vector(\"FWIR\")\n",
    "    FWPR = summary.numpy_vector(\"FWPR\")\n",
    "    FWPT = summary.numpy_vector(\"FWPT\")\n",
    "\n",
    "    df = pd.DataFrame(list(zip(Time, Years, FOE, FOPR, FOPT,FPR, FWCT, FWIR, FWPR, FWPT)), \n",
    "    columns=[\"Time\", \"Years\", \"FOE\",\"FOPR\", \"FOPT\",\"FPR\",\"FWCT\", \"FWIR\",\"FWPR\",\"FWPT\"])\n",
    "    df2=df[['Time','FOPT','FWPT', 'FWIR']]\n",
    "    df2=df2.iloc[11::12]\n",
    "    df2.reset_index(drop=True, inplace=True)\n",
    "    NetCashFlows = OP * np.array(df2['FOPT']) - WPP * np.array(df2['FWPT']) - WIP * (np.array(df2['FWIR'])*360)\n",
    "    DiscountFactors_end = 1/(1+DiscountRate)**Study_period\n",
    "    DiscountedNetCashFlows = NetCashFlows*DiscountFactors_end\n",
    "    NPV_end = sum(DiscountedNetCashFlows)/6.29\n",
    "    NPV.append(NPV_end)\n",
    "    #print(\"NPV_end for realization: \" ,  NPV_end)\n",
    "    return NPV\n",
    "    \n"
   ]
  },
  {
   "cell_type": "code",
   "execution_count": 11,
   "metadata": {},
   "outputs": [],
   "source": [
    "# NPV function which will be passed to BO\n",
    "\n",
    "def NPV_BO(X_init):\n",
    "    '''In this function, we will calculate the ENPV, first we need to open each realization's directory, \n",
    "    change the injection rates acording to what BO suggests, run the simulator, then calculate the NPV for the \n",
    "    1st realization, if the NPV calculated in the 1st realization is greater than the average ENPV calculated\n",
    "    from initial injection rates, other 9 realizations with be run and their NPVs will be calculated, otherwise,\n",
    "    BO will provide another injection rate'''\n",
    "    for i in X_init:\n",
    "        for u in range(1,11):\n",
    "            os.chdir('/home/mina/Documents/Data/ENPV-Calc/' + str(u))\n",
    "            modify_Different_InjRate(i)\n",
    "            os.system(command='flow Ensemble_1.DATA > /dev/null')\n",
    "            NPV_Calc()\n",
    "            if u ==1 and NPV < ENPV_avg:\n",
    "                break\n",
    "        #print('NPV: ' , NPV)\n",
    "        ENPV=round(sum(NPV)/len(NPV),4)\n",
    "        print('ENPV of ' + str(i) , ': ', ENPV)\n",
    "    NPV.clear()\n",
    "    #print(\"NPV_now: \" , NPV)\n",
    "    return ENPV"
   ]
  },
  {
   "cell_type": "code",
   "execution_count": 12,
   "metadata": {},
   "outputs": [],
   "source": [
    "#initial injection rates and the corresponding ENPVs are read to be passed to BO\n",
    "X_init = Inject_Different_Rates\n",
    "Y_init = pd.read_csv('/home/mina/Documents/Data/ENPV-Calc/Y_initial_uniform2.csv', header= None)\n",
    "Y_init = Y_init.to_numpy()"
   ]
  },
  {
   "cell_type": "code",
   "execution_count": 13,
   "metadata": {},
   "outputs": [],
   "source": [
    "# I used Bayesian optimization package here I initialize the BO\n",
    "\n",
    "ENPV_avg=np.average(Y_init)\n",
    "bounds = np.array([[5, 100]])\n",
    "k = GPy.kern.RBF(1)\n",
    "bds = [{'name': 'X', 'type': 'continuous', 'domain': bounds.ravel()},\n",
    "       {'name': 'X', 'type': 'continuous', 'domain': bounds.ravel()},\n",
    "       {'name': 'X', 'type': 'continuous', 'domain': bounds.ravel()},\n",
    "       {'name': 'X', 'type': 'continuous', 'domain': bounds.ravel()},\n",
    "       {'name': 'X', 'type': 'continuous', 'domain': bounds.ravel()},\n",
    "       {'name': 'X', 'type': 'continuous', 'domain': bounds.ravel()},\n",
    "       {'name': 'X', 'type': 'continuous', 'domain': bounds.ravel()},\n",
    "       {'name': 'X', 'type': 'continuous', 'domain': bounds.ravel()}]\n",
    "\n",
    "optimizer = BayesianOptimization(f=NPV_BO, \n",
    "                                 domain=bds,\n",
    "                                 model_type='GP',\n",
    "                                 kernel=k,\n",
    "                                 acquisition_type ='EI',\n",
    "                                 X=X_init,\n",
    "                                 Y = -Y_init,\n",
    "                                 maximize=True)\n",
    "\n"
   ]
  },
  {
   "cell_type": "code",
   "execution_count": null,
   "metadata": {},
   "outputs": [],
   "source": [
    "# I run the BO for 20 iterations\n",
    "optimizer.run_optimization(max_iter=20)"
   ]
  },
  {
   "cell_type": "code",
   "execution_count": 10,
   "metadata": {},
   "outputs": [],
   "source": [
    "#In below code, I saved the initial random injection rates so I can used them for BO initialzation later\n",
    "np.savetxt('X_initial_uniform2.csv', optimizer.X, delimiter=',')"
   ]
  },
  {
   "cell_type": "code",
   "execution_count": 9,
   "metadata": {},
   "outputs": [],
   "source": [
    "#here, I saved the ENPV calculated from initial values, so I can use it for BO initialization later\n",
    "np.savetxt('Y_initial_uniform2.csv', -optimizer.Y , delimiter=',')"
   ]
  },
  {
   "cell_type": "code",
   "execution_count": null,
   "metadata": {},
   "outputs": [],
   "source": [
    "# best injection rate \n",
    "optimizer.x_opt"
   ]
  },
  {
   "cell_type": "code",
   "execution_count": null,
   "metadata": {},
   "outputs": [],
   "source": [
    "# best ENPV\n",
    "optimizer.fx_opt"
   ]
  },
  {
   "cell_type": "code",
   "execution_count": null,
   "metadata": {},
   "outputs": [],
   "source": [
    "# convergence plot from BO package which I did not use\n",
    "optimizer.plot_convergence()\n"
   ]
  },
  {
   "cell_type": "code",
   "execution_count": 46,
   "metadata": {},
   "outputs": [],
   "source": [
    "# convergence plot function that I used to show the BO convergence\n",
    "def plot_convergence(Y_sample, n_init=2):\n",
    "    plt.figure(figsize=(12, 3))\n",
    "\n",
    "    y = Y_sample[n_init:].ravel()\n",
    "    r = range(1, len(y)+1)\n",
    "    \n",
    "    y_max_watermark = np.maximum.accumulate(y)\n",
    "\n",
    "    plt.subplot(1, 2, 2)\n",
    "    plt.plot(r, y_max_watermark, 'ro-')\n",
    "    plt.xlabel('Iteration')\n",
    "    plt.ylabel('Best Y')\n",
    "    plt.title('Value of best selected sample')"
   ]
  },
  {
   "cell_type": "code",
   "execution_count": null,
   "metadata": {},
   "outputs": [],
   "source": [
    "plot_convergence(-optimizer.Y)"
   ]
  }
 ],
 "metadata": {
  "kernelspec": {
   "display_name": "Python 3 (ipykernel)",
   "language": "python",
   "name": "python3"
  },
  "language_info": {
   "codemirror_mode": {
    "name": "ipython",
    "version": 3
   },
   "file_extension": ".py",
   "mimetype": "text/x-python",
   "name": "python",
   "nbconvert_exporter": "python",
   "pygments_lexer": "ipython3",
   "version": "3.9.13"
  }
 },
 "nbformat": 4,
 "nbformat_minor": 2
}
